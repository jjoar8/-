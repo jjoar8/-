{
  "nbformat": 4,
  "nbformat_minor": 0,
  "metadata": {
    "colab": {
      "name": "1주차 과제.ipynb",
      "provenance": [],
      "authorship_tag": "ABX9TyNOcKDldHN2/MKUbxlex2rc",
      "include_colab_link": true
    },
    "kernelspec": {
      "name": "python3",
      "display_name": "Python 3"
    }
  },
  "cells": [
    {
      "cell_type": "markdown",
      "metadata": {
        "id": "view-in-github",
        "colab_type": "text"
      },
      "source": [
        "<a href=\"https://colab.research.google.com/github/jjoar8/-/blob/master/1%EC%A3%BC%EC%B0%A8_%EA%B3%BC%EC%A0%9C.ipynb\" target=\"_parent\"><img src=\"https://colab.research.google.com/assets/colab-badge.svg\" alt=\"Open In Colab\"/></a>"
      ]
    },
    {
      "cell_type": "markdown",
      "metadata": {
        "id": "XqdvOF-h8_Qt",
        "colab_type": "text"
      },
      "source": [
        "인공지능은 현재 많은 제품과 서비스에 적용되어 있습니다. 특히 언어, 음성, 이미지, 자율주행의 분야에서 자주 찾아볼 수 있는데요.\n",
        "시중에 나와있는 다양한 제품들과 서비스 속 적용된 인공지능 기술들에 대해서 분석해 보고 여러분의 흥미를 끄는 기술들은 무엇이 있는지 찾아 보며 여러분 나름의 학습 목표를 세워보시기 바랍니다.\n",
        "\n",
        "앞서 제시해 드린 4가지 분야의 기술을 사용하는 4가지 제품 및 서비스를 찾아 깃헙 마크다운으로 작성하여 url과 여러분의 과제 목차 스크린 캡처를 제출해주세요."
      ]
    },
    {
      "cell_type": "markdown",
      "metadata": {
        "id": "EoHQ9eD5MPX4",
        "colab_type": "text"
      },
      "source": [
        "# 1. 언어\n",
        "Google Translate : 어플 등을 통해 사진을 비추면 바로 번역하여 보여준다.\n"
      ]
    },
    {
      "cell_type": "markdown",
      "metadata": {
        "id": "52sMicFGPg8x",
        "colab_type": "text"
      },
      "source": [
        "# 2. 음성\n",
        "카카오미니 : 사용자의 음성을 인식하고 데이터를 처리하여 출력한다."
      ]
    },
    {
      "cell_type": "markdown",
      "metadata": {
        "id": "DYxW0R4ZRU1z",
        "colab_type": "text"
      },
      "source": [
        "# 3. 이미지\n",
        "네이버 스마트렌즈 : 사용자가 촬영한 사진을 분석하여 유사값을 찾아 출력한다."
      ]
    },
    {
      "cell_type": "markdown",
      "metadata": {
        "id": "GcYDsecUSL8Z",
        "colab_type": "text"
      },
      "source": [
        "# 4. 자율주행\n",
        "KT 자율주행 플랫폼 : 차량통신 빅데이터를 기반으로 자율주행 버스를 작동시킨다."
      ]
    }
  ]
}