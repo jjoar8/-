{
  "nbformat": 4,
  "nbformat_minor": 0,
  "metadata": {
    "colab": {
      "name": "1주차과제.ipynb",
      "provenance": [],
      "authorship_tag": "ABX9TyO4repk3bwAllNde432DV44",
      "include_colab_link": true
    },
    "kernelspec": {
      "name": "python3",
      "display_name": "Python 3"
    }
  },
  "cells": [
    {
      "cell_type": "markdown",
      "metadata": {
        "id": "view-in-github",
        "colab_type": "text"
      },
      "source": [
        "<a href=\"https://colab.research.google.com/github/jjoar8/GJAI/blob/master/1%EC%A3%BC%EC%B0%A8%EA%B3%BC%EC%A0%9C.ipynb\" target=\"_parent\"><img src=\"https://colab.research.google.com/assets/colab-badge.svg\" alt=\"Open In Colab\"/></a>"
      ]
    },
    {
      "cell_type": "markdown",
      "metadata": {
        "id": "EoHQ9eD5MPX4",
        "colab_type": "text"
      },
      "source": [
        "# 1. 언어\n",
        "Google Translate : 어플 등을 통해 사진을 비추면 바로 번역하여 보여준다.\n",
        "![대체 텍스트](http://cfile286.uf.daum.net/image/9914BE4D5EE4E64F07BAE2\n",
        ")"
      ]
    },
    {
      "cell_type": "markdown",
      "metadata": {
        "id": "52sMicFGPg8x",
        "colab_type": "text"
      },
      "source": [
        "# 2. 음성\n",
        "카카오미니 : 사용자의 음성을 인식하고 데이터를 처리하여 출력한다.\n",
        "![대체 텍스트](http://cfile279.uf.daum.net/image/99A3884D5EE4E65010AF4C)"
      ]
    },
    {
      "cell_type": "markdown",
      "metadata": {
        "id": "DYxW0R4ZRU1z",
        "colab_type": "text"
      },
      "source": [
        "# 3. 이미지\n",
        "네이버 스마트렌즈 : 사용자가 촬영한 사진을 분석하여 유사값을 찾아 출력한다.\n",
        "![대체 텍스트](http://cfile274.uf.daum.net/image/9915114D5EE4E650074BC1)"
      ]
    },
    {
      "cell_type": "markdown",
      "metadata": {
        "id": "GcYDsecUSL8Z",
        "colab_type": "text"
      },
      "source": [
        "# 4. 자율주행\n",
        "KT 자율주행 플랫폼 : 차량통신 빅데이터를 기반으로 자율주행 버스를 작동시킨다.\n",
        "![대체 텍스트](http://cfile252.uf.daum.net/image/99CD3F4D5EE4E6500CA4B2)"
      ]
    }
  ]
}